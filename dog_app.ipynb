{
 "cells": [
  {
   "cell_type": "markdown",
   "metadata": {},
   "source": [
    "# Artificial Intelligence Nanodegree\n",
    "\n",
    "## Convolutional Neural Networks\n",
    "\n",
    "## Project: Write an Algorithm for a Dog Identification App \n",
    "\n",
    "---\n",
    "\n",
    "In this notebook, some template code has already been provided for you, and you will need to implement additional functionality to successfully complete this project. You will not need to modify the included code beyond what is requested. Sections that begin with **'(IMPLEMENTATION)'** in the header indicate that the following block of code will require additional functionality which you must provide. Instructions will be provided for each section, and the specifics of the implementation are marked in the code block with a 'TODO' statement. Please be sure to read the instructions carefully! \n",
    "\n",
    "> **Note**: Once you have completed all of the code implementations, you need to finalize your work by exporting the iPython Notebook as an HTML document. Before exporting the notebook to html, all of the code cells need to have been run so that reviewers can see the final implementation and output. You can then export the notebook by using the menu above and navigating to  \\n\",\n",
    "    \"**File -> Download as -> HTML (.html)**. Include the finished document along with this notebook as your submission.\n",
    "\n",
    "In addition to implementing code, there will be questions that you must answer which relate to the project and your implementation. Each section where you will answer a question is preceded by a **'Question X'** header. Carefully read each question and provide thorough answers in the following text boxes that begin with **'Answer:'**. Your project submission will be evaluated based on your answers to each of the questions and the implementation you provide.\n",
    "\n",
    ">**Note:** Code and Markdown cells can be executed using the **Shift + Enter** keyboard shortcut.  Markdown cells can be edited by double-clicking the cell to enter edit mode.\n",
    "\n",
    "The rubric contains _optional_ \"Stand Out Suggestions\" for enhancing the project beyond the minimum requirements. If you decide to pursue the \"Stand Out Suggestions\", you should include the code in this IPython notebook.\n",
    "\n",
    "\n",
    "\n",
    "---\n",
    "### Why We're Here \n",
    "\n",
    "In this notebook, you will make the first steps towards developing an algorithm that could be used as part of a mobile or web app.  At the end of this project, your code will accept any user-supplied image as input.  If a dog is detected in the image, it will provide an estimate of the dog's breed.  If a human is detected, it will provide an estimate of the dog breed that is most resembling.  The image below displays potential sample output of your finished project (... but we expect that each student's algorithm will behave differently!). \n",
    "\n",
    "![Sample Dog Output](images/sample_dog_output.png)\n",
    "\n",
    "In this real-world setting, you will need to piece together a series of models to perform different tasks; for instance, the algorithm that detects humans in an image will be different from the CNN that infers dog breed.  There are many points of possible failure, and no perfect algorithm exists.  Your imperfect solution will nonetheless create a fun user experience!\n",
    "\n",
    "### The Road Ahead\n",
    "\n",
    "We break the notebook into separate steps.  Feel free to use the links below to navigate the notebook.\n",
    "\n",
    "* [Step 0](#step0): Import Datasets\n",
    "* [Step 1](#step1): Detect Humans\n",
    "* [Step 2](#step2): Detect Dogs\n",
    "* [Step 3](#step3): Create a CNN to Classify Dog Breeds (from Scratch)\n",
    "* [Step 4](#step4): Use a CNN to Classify Dog Breeds (using Transfer Learning)\n",
    "* [Step 5](#step5): Create a CNN to Classify Dog Breeds (using Transfer Learning)\n",
    "* [Step 6](#step6): Write your Algorithm\n",
    "* [Step 7](#step7): Test Your Algorithm\n",
    "\n",
    "---\n",
    "<a id='step0'></a>\n",
    "## Step 0: Import Datasets\n",
    "\n",
    "### Import Dog Dataset\n",
    "\n",
    "In the code cell below, we import a dataset of dog images.  We populate a few variables through the use of the `load_files` function from the scikit-learn library:\n",
    "- `train_files`, `valid_files`, `test_files` - numpy arrays containing file paths to images\n",
    "- `train_targets`, `valid_targets`, `test_targets` - numpy arrays containing onehot-encoded classification labels \n",
    "- `dog_names` - list of string-valued dog breed names for translating labels"
   ]
  },
  {
   "cell_type": "code",
   "execution_count": 1,
   "metadata": {},
   "outputs": [
    {
     "name": "stderr",
     "output_type": "stream",
     "text": [
      "Using TensorFlow backend.\n"
     ]
    },
    {
     "name": "stdout",
     "output_type": "stream",
     "text": [
      "There are 133 total dog categories.\n",
      "There are 8351 total dog images.\n",
      "\n",
      "There are 6680 training dog images.\n",
      "There are 835 validation dog images.\n",
      "There are 836 test dog images.\n"
     ]
    }
   ],
   "source": [
    "from sklearn.datasets import load_files       \n",
    "from keras.utils import np_utils\n",
    "import numpy as np\n",
    "from glob import glob\n",
    "\n",
    "# define function to load train, test, and validation datasets\n",
    "def load_dataset(path):\n",
    "    data = load_files(path)\n",
    "    dog_files = np.array(data['filenames'])\n",
    "    dog_targets = np_utils.to_categorical(np.array(data['target']), 133)\n",
    "    return dog_files, dog_targets\n",
    "\n",
    "# load train, test, and validation datasets\n",
    "train_files, train_targets = load_dataset('dogImages/train')\n",
    "valid_files, valid_targets = load_dataset('dogImages/valid')\n",
    "test_files, test_targets = load_dataset('dogImages/test')\n",
    "\n",
    "# load list of dog names\n",
    "dog_names = [item[20:-1] for item in sorted(glob(\"dogImages/train/*/\"))]\n",
    "\n",
    "# print statistics about the dataset\n",
    "print('There are %d total dog categories.' % len(dog_names))\n",
    "print('There are %s total dog images.\\n' % len(np.hstack([train_files, valid_files, test_files])))\n",
    "print('There are %d training dog images.' % len(train_files))\n",
    "print('There are %d validation dog images.' % len(valid_files))\n",
    "print('There are %d test dog images.'% len(test_files))"
   ]
  },
  {
   "cell_type": "markdown",
   "metadata": {},
   "source": [
    "### Import Human Dataset\n",
    "\n",
    "In the code cell below, we import a dataset of human images, where the file paths are stored in the numpy array `human_files`."
   ]
  },
  {
   "cell_type": "code",
   "execution_count": 2,
   "metadata": {},
   "outputs": [
    {
     "name": "stdout",
     "output_type": "stream",
     "text": [
      "There are 13233 total human images.\n"
     ]
    }
   ],
   "source": [
    "import random\n",
    "random.seed(8675309)\n",
    "\n",
    "# load filenames in shuffled human dataset\n",
    "human_files = np.array(glob(\"lfw/*/*\"))\n",
    "random.shuffle(human_files)\n",
    "\n",
    "# print statistics about the dataset\n",
    "print('There are %d total human images.' % len(human_files))"
   ]
  },
  {
   "cell_type": "markdown",
   "metadata": {},
   "source": [
    "---\n",
    "<a id='step1'></a>\n",
    "## Step 1: Detect Humans\n",
    "\n",
    "We use OpenCV's implementation of [Haar feature-based cascade classifiers](http://docs.opencv.org/trunk/d7/d8b/tutorial_py_face_detection.html) to detect human faces in images.  OpenCV provides many pre-trained face detectors, stored as XML files on [github](https://github.com/opencv/opencv/tree/master/data/haarcascades).  We have downloaded one of these detectors and stored it in the `haarcascades` directory.\n",
    "\n",
    "In the next code cell, we demonstrate how to use this detector to find human faces in a sample image."
   ]
  },
  {
   "cell_type": "code",
   "execution_count": 3,
   "metadata": {},
   "outputs": [
    {
     "name": "stdout",
     "output_type": "stream",
     "text": [
      "Number of faces detected: 1\n"
     ]
    },
    {
     "data": {
      "image/png": "[encoded data removed]",
      "text/plain": [
       "<matplotlib.figure.Figure at 0x7f1838cba278>"
      ]
     },
     "metadata": {},
     "output_type": "display_data"
    }
   ],
   "source": [
    "import cv2                \n",
    "import matplotlib.pyplot as plt                        \n",
    "%matplotlib inline                               \n",
    "\n",
    "# extract pre-trained face detector\n",
    "face_cascade = cv2.CascadeClassifier('haarcascades/haarcascade_frontalface_alt.xml')\n",
    "\n",
    "# load color (BGR) image\n",
    "img = cv2.imread(human_files[3])\n",
    "# convert BGR image to grayscale\n",
    "gray = cv2.cvtColor(img, cv2.COLOR_BGR2GRAY)\n",
    "\n",
    "# find faces in image\n",
    "faces = face_cascade.detectMultiScale(gray)\n",
    "\n",
    "# print number of faces detected in the image\n",
    "print('Number of faces detected:', len(faces))\n",
    "\n",
    "# get bounding box for each detected face\n",
    "for (x,y,w,h) in faces:\n",
    "    # add bounding box to color image\n",
    "    cv2.rectangle(img,(x,y),(x+w,y+h),(255,0,0),2)\n",
    "    \n",
    "# convert BGR image to RGB for plotting\n",
    "cv_rgb = cv2.cvtColor(img, cv2.COLOR_BGR2RGB)\n",
    "\n",
    "# display the image, along with bounding box\n",
    "plt.imshow(cv_rgb)\n",
    "plt.show()"
   ]
  },
  {
   "cell_type": "markdown",
   "metadata": {},
   "source": [
    "Before using any of the face detectors, it is standard procedure to convert the images to grayscale.  The `detectMultiScale` function executes the classifier stored in `face_cascade` and takes the grayscale image as a parameter.  \n",
    "\n",
    "In the above code, `faces` is a numpy array of detected faces, where each row corresponds to a detected face.  Each detected face is a 1D array with four entries that specifies the bounding box of the detected face.  The first two entries in the array (extracted in the above code as `x` and `y`) specify the horizontal and vertical positions of the top left corner of the bounding box.  The last two entries in the array (extracted here as `w` and `h`) specify the width and height of the box.\n",
    "\n",
    "### Write a Human Face Detector\n",
    "\n",
    "We can use this procedure to write a function that returns `True` if a human face is detected in an image and `False` otherwise.  This function, aptly named `face_detector`, takes a string-valued file path to an image as input and appears in the code block below."
   ]
  },
  {
   "cell_type": "code",
   "execution_count": 4,
   "metadata": {},
   "outputs": [],
   "source": [
    "# returns \"True\" if face is detected in image stored at img_path\n",
    "def face_detector(img_path):\n",
    "    img = cv2.imread(img_path)\n",
    "    gray = cv2.cvtColor(img, cv2.COLOR_BGR2GRAY)\n",
    "    faces = face_cascade.detectMultiScale(gray)\n",
    "    return len(faces) > 0"
   ]
  },
  {
   "cell_type": "markdown",
   "metadata": {},
   "source": [
    "### (IMPLEMENTATION) Assess the Human Face Detector\n",
    "\n",
    "__Question 1:__ Use the code cell below to test the performance of the `face_detector` function.  \n",
    "- What percentage of the first 100 images in `human_files` have a detected human face?  \n",
    "- What percentage of the first 100 images in `dog_files` have a detected human face? \n",
    "\n",
    "Ideally, we would like 100% of human images with a detected face and 0% of dog images with a detected face.  You will see that our algorithm falls short of this goal, but still gives acceptable performance.  We extract the file paths for the first 100 images from each of the datasets and store them in the numpy arrays `human_files_short` and `dog_files_short`.\n",
    "\n",
    "__Answer:__ \n",
    "- 99% of first 100 images in human_files have a detected human face.\n",
    "- 11% of first 100 images in dog_files have a detected human face"
   ]
  },
  {
   "cell_type": "code",
   "execution_count": 5,
   "metadata": {},
   "outputs": [
    {
     "name": "stdout",
     "output_type": "stream",
     "text": [
      "Detected 99 faces in first 100 human images\n",
      "Human face detector found 11 faces in first 100 dog images\n"
     ]
    }
   ],
   "source": [
    "human_files_short = human_files[:100]\n",
    "dog_files_short = train_files[:100]\n",
    "# Do NOT modify the code above this line.\n",
    "\n",
    "## TODO: Test the performance of the face_detector algorithm \n",
    "## on the images in human_files_short and dog_files_short.\n",
    "human_count = 0\n",
    "dog_count = 0\n",
    "\n",
    "for human_file in human_files_short:\n",
    "    if (face_detector(human_file) == True):\n",
    "        human_count += 1\n",
    "print(\"Detected {} faces in first 100 human images\".format(human_count))\n",
    "\n",
    "for dog_file in dog_files_short:\n",
    "    if (face_detector(dog_file) == True):\n",
    "        dog_count += 1\n",
    "print(\"Human face detector found {} faces in first 100 dog images\".format(dog_count))"
   ]
  },
  {
   "cell_type": "markdown",
   "metadata": {},
   "source": [
    "__Question 2:__ This algorithmic choice necessitates that we communicate to the user that we accept human images only when they provide a clear view of a face (otherwise, we risk having unneccessarily frustrated users!). In your opinion, is this a reasonable expectation to pose on the user? If not, can you think of a way to detect humans in images that does not necessitate an image with a clearly presented face?\n",
    "\n",
    "__Answer:__ I think it is a reasonable expectation that the user provide an image with a face, because the program is trying to compare a human face to a dog type, and if the user doesn't provide an image with a human face, they can hardly expect the program to report what dog-type the human image represents. The haar cascades are designed for detecting human faces. A different technique, such as perhaps a CNN that detects human body shapes would be needed if faces were not considered central to \"dog-type-ness\". Put another way, we humans think our faces are our most distinguising feature, so to us they are an appropriate measure of \"dog-similarity\". Ideally, the UI would instruct the user to upload an image that clearly shows a human face, in order to analyze their \"dog-type\". \n",
    "\n",
    "We suggest the face detector from OpenCV as a potential way to detect human images in your algorithm, but you are free to explore other approaches, especially approaches that make use of deep learning :).  Please use the code cell below to design and test your own face detection algorithm.  If you decide to pursue this _optional_ task, report performance on each of the datasets."
   ]
  },
  {
   "cell_type": "code",
   "execution_count": null,
   "metadata": {
    "collapsed": true
   },
   "outputs": [],
   "source": [
    "## (Optional) TODO: Report the performance of another  \n",
    "## face detection algorithm on the LFW dataset\n",
    "### Feel free to use as many code cells as needed."
   ]
  },
  {
   "cell_type": "markdown",
   "metadata": {},
   "source": [
    "---\n",
    "<a id='step2'></a>\n",
    "## Step 2: Detect Dogs\n",
    "\n",
    "In this section, we use a pre-trained [ResNet-50](http://ethereon.github.io/netscope/#/gist/db945b393d40bfa26006) model to detect dogs in images.  Our first line of code downloads the ResNet-50 model, along with weights that have been trained on [ImageNet](http://www.image-net.org/), a very large, very popular dataset used for image classification and other vision tasks.  ImageNet contains over 10 million URLs, each linking to an image containing an object from one of [1000 categories](https://gist.github.com/yrevar/942d3a0ac09ec9e5eb3a).  Given an image, this pre-trained ResNet-50 model returns a prediction (derived from the available categories in ImageNet) for the object that is contained in the image."
   ]
  },
  {
   "cell_type": "code",
   "execution_count": 6,
   "metadata": {},
   "outputs": [],
   "source": [
    "from keras.applications.resnet50 import ResNet50\n",
    "\n",
    "# define ResNet50 model\n",
    "ResNet50_model = ResNet50(weights='imagenet')"
   ]
  },
  {
   "cell_type": "markdown",
   "metadata": {},
   "source": [
    "### Pre-process the Data\n",
    "\n",
    "When using TensorFlow as backend, Keras CNNs require a 4D array (which we'll also refer to as a 4D tensor) as input, with shape\n",
    "\n",
    "$$\n",
    "(\\text{nb_samples}, \\text{rows}, \\text{columns}, \\text{channels}),\n",
    "$$\n",
    "\n",
    "where `nb_samples` corresponds to the total number of images (or samples), and `rows`, `columns`, and `channels` correspond to the number of rows, columns, and channels for each image, respectively.  \n",
    "\n",
    "The `path_to_tensor` function below takes a string-valued file path to a color image as input and returns a 4D tensor suitable for supplying to a Keras CNN.  The function first loads the image and resizes it to a square image that is $224 \\times 224$ pixels.  Next, the image is converted to an array, which is then resized to a 4D tensor.  In this case, since we are working with color images, each image has three channels.  Likewise, since we are processing a single image (or sample), the returned tensor will always have shape\n",
    "\n",
    "$$\n",
    "(1, 224, 224, 3).\n",
    "$$\n",
    "\n",
    "The `paths_to_tensor` function takes a numpy array of string-valued image paths as input and returns a 4D tensor with shape \n",
    "\n",
    "$$\n",
    "(\\text{nb_samples}, 224, 224, 3).\n",
    "$$\n",
    "\n",
    "Here, `nb_samples` is the number of samples, or number of images, in the supplied array of image paths.  It is best to think of `nb_samples` as the number of 3D tensors (where each 3D tensor corresponds to a different image) in your dataset!"
   ]
  },
  {
   "cell_type": "code",
   "execution_count": 7,
   "metadata": {},
   "outputs": [],
   "source": [
    "from keras.preprocessing import image                  \n",
    "from tqdm import tqdm\n",
    "\n",
    "def path_to_tensor(img_path):\n",
    "    # loads RGB image as PIL.Image.Image type\n",
    "    img = image.load_img(img_path, target_size=(224, 224))\n",
    "    # convert PIL.Image.Image type to 3D tensor with shape (224, 224, 3)\n",
    "    x = image.img_to_array(img)\n",
    "    # convert 3D tensor to 4D tensor with shape (1, 224, 224, 3) and return 4D tensor\n",
    "    return np.expand_dims(x, axis=0)\n",
    "\n",
    "def paths_to_tensor(img_paths):\n",
    "    list_of_tensors = [path_to_tensor(img_path) for img_path in tqdm(img_paths)]\n",
    "    return np.vstack(list_of_tensors)"
   ]
  },
  {
   "cell_type": "markdown",
   "metadata": {},
   "source": [
    "### Making Predictions with ResNet-50\n",
    "\n",
    "Getting the 4D tensor ready for ResNet-50, and for any other pre-trained model in Keras, requires some additional processing.  First, the RGB image is converted to BGR by reordering the channels.  All pre-trained models have the additional normalization step that the mean pixel (expressed in RGB as $[103.939, 116.779, 123.68]$ and calculated from all pixels in all images in ImageNet) must be subtracted from every pixel in each image.  This is implemented in the imported function `preprocess_input`.  If you're curious, you can check the code for `preprocess_input` [here](https://github.com/fchollet/keras/blob/master/keras/applications/imagenet_utils.py).\n",
    "\n",
    "Now that we have a way to format our image for supplying to ResNet-50, we are now ready to use the model to extract the predictions.  This is accomplished with the `predict` method, which returns an array whose $i$-th entry is the model's predicted probability that the image belongs to the $i$-th ImageNet category.  This is implemented in the `ResNet50_predict_labels` function below.\n",
    "\n",
    "By taking the argmax of the predicted probability vector, we obtain an integer corresponding to the model's predicted object class, which we can identify with an object category through the use of this [dictionary](https://gist.github.com/yrevar/942d3a0ac09ec9e5eb3a). "
   ]
  },
  {
   "cell_type": "code",
   "execution_count": 8,
   "metadata": {},
   "outputs": [],
   "source": [
    "from keras.applications.resnet50 import preprocess_input, decode_predictions\n",
    "\n",
    "def ResNet50_predict_labels(img_path):\n",
    "    # returns prediction vector for image located at img_path\n",
    "    img = preprocess_input(path_to_tensor(img_path))\n",
    "    return np.argmax(ResNet50_model.predict(img))"
   ]
  },
  {
   "cell_type": "markdown",
   "metadata": {},
   "source": [
    "### Write a Dog Detector\n",
    "\n",
    "While looking at the [dictionary](https://gist.github.com/yrevar/942d3a0ac09ec9e5eb3a), you will notice that the categories corresponding to dogs appear in an uninterrupted sequence and correspond to dictionary keys 151-268, inclusive, to include all categories from `'Chihuahua'` to `'Mexican hairless'`.  Thus, in order to check to see if an image is predicted to contain a dog by the pre-trained ResNet-50 model, we need only check if the `ResNet50_predict_labels` function above returns a value between 151 and 268 (inclusive).\n",
    "\n",
    "We use these ideas to complete the `dog_detector` function below, which returns `True` if a dog is detected in an image (and `False` if not)."
   ]
  },
  {
   "cell_type": "code",
   "execution_count": 9,
   "metadata": {},
   "outputs": [],
   "source": [
    "### returns \"True\" if a dog is detected in the image stored at img_path\n",
    "def dog_detector(img_path):\n",
    "    prediction = ResNet50_predict_labels(img_path)\n",
    "    return ((prediction <= 268) & (prediction >= 151)) "
   ]
  },
  {
   "cell_type": "markdown",
   "metadata": {},
   "source": [
    "### (IMPLEMENTATION) Assess the Dog Detector\n",
    "\n",
    "__Question 3:__ Use the code cell below to test the performance of your `dog_detector` function.  \n",
    "- What percentage of the images in `human_files_short` have a detected dog?  \n",
    "- What percentage of the images in `dog_files_short` have a detected dog?\n",
    "\n",
    "__Answer:__ \n",
    "- 0% of images in human_files_short have a detected dog\n",
    "- 100% of images in dog_files_short have a detected dog"
   ]
  },
  {
   "cell_type": "code",
   "execution_count": 10,
   "metadata": {},
   "outputs": [
    {
     "name": "stdout",
     "output_type": "stream",
     "text": [
      "Dog detector found 100 dogs in first 100 dog images\n",
      "Detected 0 dogs in first 100 human images\n"
     ]
    }
   ],
   "source": [
    "### TODO: Test the performance of the dog_detector function\n",
    "### on the images in human_files_short and dog_files_short.\n",
    "dog_count = 0\n",
    "human_count = 0\n",
    "\n",
    "for dog_file in dog_files_short:\n",
    "    if (dog_detector(dog_file) == True):\n",
    "        dog_count += 1\n",
    "print(\"Dog detector found {} dogs in first 100 dog images\".format(dog_count))\n",
    "\n",
    "for human_file in human_files_short:\n",
    "    if (dog_detector(human_file) == True):\n",
    "        human_count += 1\n",
    "print(\"Detected {} dogs in first 100 human images\".format(human_count))"
   ]
  },
  {
   "cell_type": "markdown",
   "metadata": {},
   "source": [
    "---\n",
    "<a id='step3'></a>\n",
    "## Step 3: Create a CNN to Classify Dog Breeds (from Scratch)\n",
    "\n",
    "Now that we have functions for detecting humans and dogs in images, we need a way to predict breed from images.  In this step, you will create a CNN that classifies dog breeds.  You must create your CNN _from scratch_ (so, you can't use transfer learning _yet_!), and you must attain a test accuracy of at least 1%.  In Step 5 of this notebook, you will have the opportunity to use transfer learning to create a CNN that attains greatly improved accuracy.\n",
    "\n",
    "Be careful with adding too many trainable layers!  More parameters means longer training, which means you are more likely to need a GPU to accelerate the training process.  Thankfully, Keras provides a handy estimate of the time that each epoch is likely to take; you can extrapolate this estimate to figure out how long it will take for your algorithm to train. \n",
    "\n",
    "We mention that the task of assigning breed to dogs from images is considered exceptionally challenging.  To see why, consider that *even a human* would have great difficulty in distinguishing between a Brittany and a Welsh Springer Spaniel.  \n",
    "\n",
    "Brittany | Welsh Springer Spaniel\n",
    "- | - \n",
    "<img src=\"images/Brittany_02625.jpg\" width=\"100\"> | <img src=\"images/Welsh_springer_spaniel_08203.jpg\" width=\"200\">\n",
    "\n",
    "It is not difficult to find other dog breed pairs with minimal inter-class variation (for instance, Curly-Coated Retrievers and American Water Spaniels).  \n",
    "\n",
    "Curly-Coated Retriever | American Water Spaniel\n",
    "- | -\n",
    "<img src=\"images/Curly-coated_retriever_03896.jpg\" width=\"200\"> | <img src=\"images/American_water_spaniel_00648.jpg\" width=\"200\">\n",
    "\n",
    "\n",
    "Likewise, recall that labradors come in yellow, chocolate, and black.  Your vision-based algorithm will have to conquer this high intra-class variation to determine how to classify all of these different shades as the same breed.  \n",
    "\n",
    "Yellow Labrador | Chocolate Labrador | Black Labrador\n",
    "- | -\n",
    "<img src=\"images/Labrador_retriever_06457.jpg\" width=\"150\"> | <img src=\"images/Labrador_retriever_06455.jpg\" width=\"240\"> | <img src=\"images/Labrador_retriever_06449.jpg\" width=\"220\">\n",
    "\n",
    "We also mention that random chance presents an exceptionally low bar: setting aside the fact that the classes are slightly imabalanced, a random guess will provide a correct answer roughly 1 in 133 times, which corresponds to an accuracy of less than 1%.  \n",
    "\n",
    "Remember that the practice is far ahead of the theory in deep learning.  Experiment with many different architectures, and trust your intuition.  And, of course, have fun! \n",
    "\n",
    "### Pre-process the Data\n",
    "\n",
    "We rescale the images by dividing every pixel in every image by 255."
   ]
  },
  {
   "cell_type": "code",
   "execution_count": 12,
   "metadata": {},
   "outputs": [
    {
     "name": "stderr",
     "output_type": "stream",
     "text": [
      "100%|██████████| 6680/6680 [00:53<00:00, 123.74it/s]\n",
      "100%|██████████| 835/835 [00:06<00:00, 137.64it/s]\n",
      "100%|██████████| 836/836 [00:06<00:00, 137.74it/s]\n"
     ]
    }
   ],
   "source": [
    "from PIL import ImageFile                            \n",
    "ImageFile.LOAD_TRUNCATED_IMAGES = True                 \n",
    "\n",
    "# pre-process the data for Keras\n",
    "train_tensors = paths_to_tensor(train_files).astype('float32')/255\n",
    "valid_tensors = paths_to_tensor(valid_files).astype('float32')/255\n",
    "test_tensors = paths_to_tensor(test_files).astype('float32')/255"
   ]
  },
  {
   "cell_type": "markdown",
   "metadata": {},
   "source": [
    "### (IMPLEMENTATION) Model Architecture\n",
    "\n",
    "Create a CNN to classify dog breed.  At the end of your code cell block, summarize the layers of your model by executing the line:\n",
    "    \n",
    "        model.summary()\n",
    "\n",
    "We have imported some Python modules to get you started, but feel free to import as many modules as you need.  If you end up getting stuck, here's a hint that specifies a model that trains relatively fast on CPU and attains >1% test accuracy in 5 epochs:\n",
    "\n",
    "![Sample CNN](images/sample_cnn.png)\n",
    "           \n",
    "__Question 4:__ Outline the steps you took to get to your final CNN architecture and your reasoning at each step.  If you chose to use the hinted architecture above, describe why you think that CNN architecture should work well for the image classification task.\n",
    "\n",
    "__Answer:__ "
   ]
  },
  {
   "cell_type": "code",
   "execution_count": 13,
   "metadata": {},
   "outputs": [
    {
     "name": "stdout",
     "output_type": "stream",
     "text": [
      "_________________________________________________________________\n",
      "Layer (type)                 Output Shape              Param #   \n",
      "=================================================================\n",
      "conv2d_1 (Conv2D)            (None, 223, 223, 16)      208       \n",
      "_________________________________________________________________\n",
      "max_pooling2d_2 (MaxPooling2 (None, 111, 111, 16)      0         \n",
      "_________________________________________________________________\n",
      "conv2d_2 (Conv2D)            (None, 110, 110, 32)      2080      \n",
      "_________________________________________________________________\n",
      "max_pooling2d_3 (MaxPooling2 (None, 55, 55, 32)        0         \n",
      "_________________________________________________________________\n",
      "conv2d_3 (Conv2D)            (None, 54, 54, 64)        8256      \n",
      "_________________________________________________________________\n",
      "max_pooling2d_4 (MaxPooling2 (None, 27, 27, 64)        0         \n",
      "_________________________________________________________________\n",
      "global_average_pooling2d_1 ( (None, 64)                0         \n",
      "_________________________________________________________________\n",
      "dense_1 (Dense)              (None, 133)               8645      \n",
      "=================================================================\n",
      "Total params: 19,189\n",
      "Trainable params: 19,189\n",
      "Non-trainable params: 0\n",
      "_________________________________________________________________\n"
     ]
    }
   ],
   "source": [
    "from keras.layers import Conv2D, MaxPooling2D, GlobalAveragePooling2D\n",
    "from keras.layers import Dropout, Dense\n",
    "from keras.models import Sequential\n",
    "\n",
    "model = Sequential()\n",
    "\n",
    "### TODO: Define your architecture.\n",
    "model.add(Conv2D(filters=16, kernel_size=2, activation='relu', input_shape=(224, 224, 3)))\n",
    "model.add(MaxPooling2D(pool_size=2))\n",
    "model.add(Conv2D(filters=32, kernel_size=2, activation='relu'))\n",
    "model.add(MaxPooling2D(pool_size=2))\n",
    "model.add(Conv2D(filters=64, kernel_size=2, activation='relu'))\n",
    "model.add(MaxPooling2D(pool_size=2))\n",
    "model.add(GlobalAveragePooling2D())\n",
    "model.add(Dense(133, activation='softmax'))\n",
    "\n",
    "model.summary()"
   ]
  },
  {
   "cell_type": "markdown",
   "metadata": {},
   "source": [
    "### Compile the Model"
   ]
  },
  {
   "cell_type": "code",
   "execution_count": 14,
   "metadata": {},
   "outputs": [],
   "source": [
    "model.compile(optimizer='rmsprop', loss='categorical_crossentropy', metrics=['accuracy'])"
   ]
  },
  {
   "cell_type": "markdown",
   "metadata": {},
   "source": [
    "### (IMPLEMENTATION) Train the Model\n",
    "\n",
    "Train your model in the code cell below.  Use model checkpointing to save the model that attains the best validation loss.\n",
    "\n",
    "You are welcome to [augment the training data](https://blog.keras.io/building-powerful-image-classification-models-using-very-little-data.html), but this is not a requirement. "
   ]
  },
  {
   "cell_type": "code",
   "execution_count": 15,
   "metadata": {},
   "outputs": [
    {
     "name": "stdout",
     "output_type": "stream",
     "text": [
      "Train on 6680 samples, validate on 835 samples\n",
      "Epoch 1/20\n",
      "6660/6680 [============================>.] - ETA: 0s - loss: 4.8824 - acc: 0.0092Epoch 00000: val_loss improved from inf to 4.86194, saving model to saved_models/weights.best.from_scratch.hdf5\n",
      "6680/6680 [==============================] - 22s - loss: 4.8824 - acc: 0.0093 - val_loss: 4.8619 - val_acc: 0.0144\n",
      "Epoch 2/20\n",
      "6660/6680 [============================>.] - ETA: 0s - loss: 4.8580 - acc: 0.0129Epoch 00001: val_loss improved from 4.86194 to 4.83478, saving model to saved_models/weights.best.from_scratch.hdf5\n",
      "6680/6680 [==============================] - 21s - loss: 4.8577 - acc: 0.0129 - val_loss: 4.8348 - val_acc: 0.0192\n",
      "Epoch 3/20\n",
      "6660/6680 [============================>.] - ETA: 0s - loss: 4.8128 - acc: 0.0176Epoch 00002: val_loss improved from 4.83478 to 4.80188, saving model to saved_models/weights.best.from_scratch.hdf5\n",
      "6680/6680 [==============================] - 21s - loss: 4.8127 - acc: 0.0175 - val_loss: 4.8019 - val_acc: 0.0192\n",
      "Epoch 4/20\n",
      "6660/6680 [============================>.] - ETA: 0s - loss: 4.7682 - acc: 0.0185Epoch 00003: val_loss improved from 4.80188 to 4.77153, saving model to saved_models/weights.best.from_scratch.hdf5\n",
      "6680/6680 [==============================] - 21s - loss: 4.7686 - acc: 0.0184 - val_loss: 4.7715 - val_acc: 0.0228\n",
      "Epoch 5/20\n",
      "6660/6680 [============================>.] - ETA: 0s - loss: 4.7380 - acc: 0.0255Epoch 00004: val_loss improved from 4.77153 to 4.76147, saving model to saved_models/weights.best.from_scratch.hdf5\n",
      "6680/6680 [==============================] - 21s - loss: 4.7381 - acc: 0.0256 - val_loss: 4.7615 - val_acc: 0.0144\n",
      "Epoch 6/20\n",
      "6660/6680 [============================>.] - ETA: 0s - loss: 4.7167 - acc: 0.0252Epoch 00005: val_loss improved from 4.76147 to 4.74863, saving model to saved_models/weights.best.from_scratch.hdf5\n",
      "6680/6680 [==============================] - 21s - loss: 4.7172 - acc: 0.0251 - val_loss: 4.7486 - val_acc: 0.0180\n",
      "Epoch 7/20\n",
      "6660/6680 [============================>.] - ETA: 0s - loss: 4.6972 - acc: 0.0255Epoch 00006: val_loss improved from 4.74863 to 4.73514, saving model to saved_models/weights.best.from_scratch.hdf5\n",
      "6680/6680 [==============================] - 21s - loss: 4.6969 - acc: 0.0257 - val_loss: 4.7351 - val_acc: 0.0228\n",
      "Epoch 8/20\n",
      "6660/6680 [============================>.] - ETA: 0s - loss: 4.6758 - acc: 0.0264Epoch 00007: val_loss improved from 4.73514 to 4.71276, saving model to saved_models/weights.best.from_scratch.hdf5\n",
      "6680/6680 [==============================] - 21s - loss: 4.6756 - acc: 0.0265 - val_loss: 4.7128 - val_acc: 0.0228\n",
      "Epoch 9/20\n",
      "6660/6680 [============================>.] - ETA: 0s - loss: 4.6594 - acc: 0.0302Epoch 00008: val_loss improved from 4.71276 to 4.70066, saving model to saved_models/weights.best.from_scratch.hdf5\n",
      "6680/6680 [==============================] - 21s - loss: 4.6594 - acc: 0.0302 - val_loss: 4.7007 - val_acc: 0.0311\n",
      "Epoch 10/20\n",
      "6660/6680 [============================>.] - ETA: 0s - loss: 4.6368 - acc: 0.0335Epoch 00009: val_loss improved from 4.70066 to 4.69371, saving model to saved_models/weights.best.from_scratch.hdf5\n",
      "6680/6680 [==============================] - 21s - loss: 4.6373 - acc: 0.0334 - val_loss: 4.6937 - val_acc: 0.0240\n",
      "Epoch 11/20\n",
      "6660/6680 [============================>.] - ETA: 0s - loss: 4.6182 - acc: 0.0392Epoch 00010: val_loss improved from 4.69371 to 4.67547, saving model to saved_models/weights.best.from_scratch.hdf5\n",
      "6680/6680 [==============================] - 21s - loss: 4.6180 - acc: 0.0392 - val_loss: 4.6755 - val_acc: 0.0275\n",
      "Epoch 12/20\n",
      "6660/6680 [============================>.] - ETA: 0s - loss: 4.5961 - acc: 0.0387Epoch 00011: val_loss did not improve\n",
      "6680/6680 [==============================] - 21s - loss: 4.5955 - acc: 0.0388 - val_loss: 4.6801 - val_acc: 0.0311\n",
      "Epoch 13/20\n",
      "6660/6680 [============================>.] - ETA: 0s - loss: 4.5706 - acc: 0.0450Epoch 00012: val_loss improved from 4.67547 to 4.64128, saving model to saved_models/weights.best.from_scratch.hdf5\n",
      "6680/6680 [==============================] - 21s - loss: 4.5703 - acc: 0.0451 - val_loss: 4.6413 - val_acc: 0.0299\n",
      "Epoch 14/20\n",
      "6660/6680 [============================>.] - ETA: 0s - loss: 4.5442 - acc: 0.0453Epoch 00013: val_loss improved from 4.64128 to 4.60893, saving model to saved_models/weights.best.from_scratch.hdf5\n",
      "6680/6680 [==============================] - 21s - loss: 4.5442 - acc: 0.0455 - val_loss: 4.6089 - val_acc: 0.0263\n",
      "Epoch 15/20\n",
      "6660/6680 [============================>.] - ETA: 0s - loss: 4.5202 - acc: 0.0495Epoch 00014: val_loss improved from 4.60893 to 4.58875, saving model to saved_models/weights.best.from_scratch.hdf5\n",
      "6680/6680 [==============================] - 21s - loss: 4.5204 - acc: 0.0494 - val_loss: 4.5888 - val_acc: 0.0383\n",
      "Epoch 16/20\n",
      "6660/6680 [============================>.] - ETA: 0s - loss: 4.4959 - acc: 0.0520Epoch 00015: val_loss improved from 4.58875 to 4.58142, saving model to saved_models/weights.best.from_scratch.hdf5\n",
      "6680/6680 [==============================] - 21s - loss: 4.4952 - acc: 0.0519 - val_loss: 4.5814 - val_acc: 0.0347\n",
      "Epoch 17/20\n",
      "6660/6680 [============================>.] - ETA: 0s - loss: 4.4727 - acc: 0.0520Epoch 00016: val_loss improved from 4.58142 to 4.57595, saving model to saved_models/weights.best.from_scratch.hdf5\n",
      "6680/6680 [==============================] - 21s - loss: 4.4737 - acc: 0.0518 - val_loss: 4.5759 - val_acc: 0.0407\n",
      "Epoch 18/20\n",
      "6660/6680 [============================>.] - ETA: 0s - loss: 4.4514 - acc: 0.0553Epoch 00017: val_loss did not improve\n",
      "6680/6680 [==============================] - 21s - loss: 4.4502 - acc: 0.0555 - val_loss: 4.5805 - val_acc: 0.0383\n",
      "Epoch 19/20\n",
      "6660/6680 [============================>.] - ETA: 0s - loss: 4.4266 - acc: 0.0583Epoch 00018: val_loss improved from 4.57595 to 4.53343, saving model to saved_models/weights.best.from_scratch.hdf5\n",
      "6680/6680 [==============================] - 21s - loss: 4.4265 - acc: 0.0584 - val_loss: 4.5334 - val_acc: 0.0467\n",
      "Epoch 20/20\n",
      "6660/6680 [============================>.] - ETA: 0s - loss: 4.4065 - acc: 0.0620Epoch 00019: val_loss improved from 4.53343 to 4.49443, saving model to saved_models/weights.best.from_scratch.hdf5\n",
      "6680/6680 [==============================] - 21s - loss: 4.4062 - acc: 0.0621 - val_loss: 4.4944 - val_acc: 0.0419\n"
     ]
    },
    {
     "data": {
      "text/plain": [
       "<keras.callbacks.History at 0x7efeafbc8ac8>"
      ]
     },
     "execution_count": 15,
     "metadata": {},
     "output_type": "execute_result"
    }
   ],
   "source": [
    "from keras.callbacks import ModelCheckpoint  \n",
    "\n",
    "### TODO: specify the number of epochs that you would like to use to train the model.\n",
    "\n",
    "epochs = 20\n",
    "\n",
    "### Do NOT modify the code below this line.\n",
    "\n",
    "checkpointer = ModelCheckpoint(filepath='saved_models/weights.best.from_scratch.hdf5', \n",
    "                               verbose=1, save_best_only=True)\n",
    "\n",
    "model.fit(train_tensors, train_targets, \n",
    "          validation_data=(valid_tensors, valid_targets),\n",
    "          epochs=epochs, batch_size=20, callbacks=[checkpointer], verbose=1)"
   ]
  },
  {
   "cell_type": "markdown",
   "metadata": {},
   "source": [
    "### Load the Model with the Best Validation Loss"
   ]
  },
  {
   "cell_type": "code",
   "execution_count": 16,
   "metadata": {},
   "outputs": [],
   "source": [
    "model.load_weights('saved_models/weights.best.from_scratch.hdf5')"
   ]
  },
  {
   "cell_type": "markdown",
   "metadata": {},
   "source": [
    "### Test the Model\n",
    "\n",
    "Try out your model on the test dataset of dog images.  Ensure that your test accuracy is greater than 1%."
   ]
  },
  {
   "cell_type": "code",
   "execution_count": 17,
   "metadata": {},
   "outputs": [
    {
     "name": "stdout",
     "output_type": "stream",
     "text": [
      "Test accuracy: 4.1866%\n"
     ]
    }
   ],
   "source": [
    "# get index of predicted dog breed for each image in test set\n",
    "dog_breed_predictions = [np.argmax(model.predict(np.expand_dims(tensor, axis=0))) for tensor in test_tensors]\n",
    "\n",
    "# report test accuracy\n",
    "test_accuracy = 100*np.sum(np.array(dog_breed_predictions)==np.argmax(test_targets, axis=1))/len(dog_breed_predictions)\n",
    "print('Test accuracy: %.4f%%' % test_accuracy)"
   ]
  },
  {
   "cell_type": "markdown",
   "metadata": {},
   "source": [
    "---\n",
    "<a id='step4'></a>\n",
    "## Step 4: Use a CNN to Classify Dog Breeds\n",
    "\n",
    "To reduce training time without sacrificing accuracy, we show you how to train a CNN using transfer learning.  In the following step, you will get a chance to use transfer learning to train your own CNN.\n",
    "\n",
    "### Obtain Bottleneck Features"
   ]
  },
  {
   "cell_type": "code",
   "execution_count": 35,
   "metadata": {},
   "outputs": [],
   "source": [
    "bottleneck_features = np.load('bottleneck_features/DogVGG16Data.npz')\n",
    "train_VGG16 = bottleneck_features['train']\n",
    "valid_VGG16 = bottleneck_features['valid']\n",
    "test_VGG16 = bottleneck_features['test']"
   ]
  },
  {
   "cell_type": "markdown",
   "metadata": {},
   "source": [
    "### Model Architecture\n",
    "\n",
    "The model uses the the pre-trained VGG-16 model as a fixed feature extractor, where the last convolutional output of VGG-16 is fed as input to our model.  We only add a global average pooling layer and a fully connected layer, where the latter contains one node for each dog category and is equipped with a softmax."
   ]
  },
  {
   "cell_type": "code",
   "execution_count": 36,
   "metadata": {},
   "outputs": [
    {
     "name": "stdout",
     "output_type": "stream",
     "text": [
      "_________________________________________________________________\n",
      "Layer (type)                 Output Shape              Param #   \n",
      "=================================================================\n",
      "global_average_pooling2d_8 ( (None, 512)               0         \n",
      "_________________________________________________________________\n",
      "dense_8 (Dense)              (None, 133)               68229     \n",
      "=================================================================\n",
      "Total params: 68,229\n",
      "Trainable params: 68,229\n",
      "Non-trainable params: 0\n",
      "_________________________________________________________________\n"
     ]
    }
   ],
   "source": [
    "VGG16_model = Sequential()\n",
    "VGG16_model.add(GlobalAveragePooling2D(input_shape=train_VGG16.shape[1:]))\n",
    "VGG16_model.add(Dense(133, activation='softmax'))\n",
    "\n",
    "VGG16_model.summary()"
   ]
  },
  {
   "cell_type": "markdown",
   "metadata": {},
   "source": [
    "### Compile the Model"
   ]
  },
  {
   "cell_type": "code",
   "execution_count": 37,
   "metadata": {},
   "outputs": [],
   "source": [
    "VGG16_model.compile(loss='categorical_crossentropy', optimizer='rmsprop', metrics=['accuracy'])"
   ]
  },
  {
   "cell_type": "markdown",
   "metadata": {},
   "source": [
    "### Train the Model"
   ]
  },
  {
   "cell_type": "code",
   "execution_count": 38,
   "metadata": {},
   "outputs": [
    {
     "name": "stdout",
     "output_type": "stream",
     "text": [
      "Train on 6680 samples, validate on 835 samples\n",
      "Epoch 1/20\n",
      "6580/6680 [============================>.] - ETA: 0s - loss: 12.3249 - acc: 0.1184Epoch 00001: val_loss improved from inf to 10.79311, saving model to saved_models/weights.best.VGG16.hdf5\n",
      "6680/6680 [==============================] - 5s 759us/step - loss: 12.2964 - acc: 0.1198 - val_loss: 10.7931 - val_acc: 0.2108\n",
      "Epoch 2/20\n",
      "6600/6680 [============================>.] - ETA: 0s - loss: 10.0564 - acc: 0.2839Epoch 00002: val_loss improved from 10.79311 to 9.88141, saving model to saved_models/weights.best.VGG16.hdf5\n",
      "6680/6680 [==============================] - 3s 438us/step - loss: 10.0752 - acc: 0.2832 - val_loss: 9.8814 - val_acc: 0.2874\n",
      "Epoch 3/20\n",
      "6640/6680 [============================>.] - ETA: 0s - loss: 9.4226 - acc: 0.3539Epoch 00003: val_loss improved from 9.88141 to 9.60324, saving model to saved_models/weights.best.VGG16.hdf5\n",
      "6680/6680 [==============================] - 3s 474us/step - loss: 9.4077 - acc: 0.3549 - val_loss: 9.6032 - val_acc: 0.3317\n",
      "Epoch 4/20\n",
      "6660/6680 [============================>.] - ETA: 0s - loss: 9.2080 - acc: 0.3845Epoch 00004: val_loss did not improve\n",
      "6680/6680 [==============================] - 3s 469us/step - loss: 9.1979 - acc: 0.3847 - val_loss: 9.6524 - val_acc: 0.3234\n",
      "Epoch 5/20\n",
      "6600/6680 [============================>.] - ETA: 0s - loss: 9.0207 - acc: 0.4035Epoch 00005: val_loss improved from 9.60324 to 9.33918, saving model to saved_models/weights.best.VGG16.hdf5\n",
      "6680/6680 [==============================] - 3s 464us/step - loss: 9.0086 - acc: 0.4040 - val_loss: 9.3392 - val_acc: 0.3449\n",
      "Epoch 6/20\n",
      "6660/6680 [============================>.] - ETA: 0s - loss: 8.8692 - acc: 0.4194Epoch 00006: val_loss improved from 9.33918 to 9.33257, saving model to saved_models/weights.best.VGG16.hdf5\n",
      "6680/6680 [==============================] - 3s 454us/step - loss: 8.8654 - acc: 0.4193 - val_loss: 9.3326 - val_acc: 0.3521\n",
      "Epoch 7/20\n",
      "6660/6680 [============================>.] - ETA: 0s - loss: 8.7795 - acc: 0.4338Epoch 00007: val_loss improved from 9.33257 to 9.23739, saving model to saved_models/weights.best.VGG16.hdf5\n",
      "6680/6680 [==============================] - 3s 451us/step - loss: 8.7702 - acc: 0.4344 - val_loss: 9.2374 - val_acc: 0.3665\n",
      "Epoch 8/20\n",
      "6540/6680 [============================>.] - ETA: 0s - loss: 8.5548 - acc: 0.4494Epoch 00008: val_loss improved from 9.23739 to 9.03356, saving model to saved_models/weights.best.VGG16.hdf5\n",
      "6680/6680 [==============================] - 3s 446us/step - loss: 8.5532 - acc: 0.4496 - val_loss: 9.0336 - val_acc: 0.3641\n",
      "Epoch 9/20\n",
      "6640/6680 [============================>.] - ETA: 0s - loss: 8.4078 - acc: 0.4598Epoch 00009: val_loss improved from 9.03356 to 8.86995, saving model to saved_models/weights.best.VGG16.hdf5\n",
      "6680/6680 [==============================] - 3s 449us/step - loss: 8.3937 - acc: 0.4608 - val_loss: 8.8700 - val_acc: 0.3928\n",
      "Epoch 10/20\n",
      "6600/6680 [============================>.] - ETA: 0s - loss: 8.2971 - acc: 0.4695Epoch 00010: val_loss improved from 8.86995 to 8.77247, saving model to saved_models/weights.best.VGG16.hdf5\n",
      "6680/6680 [==============================] - 3s 483us/step - loss: 8.2860 - acc: 0.4704 - val_loss: 8.7725 - val_acc: 0.3856\n",
      "Epoch 11/20\n",
      "6560/6680 [============================>.] - ETA: 0s - loss: 8.1145 - acc: 0.4843Epoch 00011: val_loss did not improve\n",
      "6680/6680 [==============================] - 3s 450us/step - loss: 8.1355 - acc: 0.4828 - val_loss: 8.7805 - val_acc: 0.3940\n",
      "Epoch 12/20\n",
      "6620/6680 [============================>.] - ETA: 0s - loss: 8.0772 - acc: 0.4875Epoch 00012: val_loss improved from 8.77247 to 8.69010, saving model to saved_models/weights.best.VGG16.hdf5\n",
      "6680/6680 [==============================] - 3s 461us/step - loss: 8.0819 - acc: 0.4873 - val_loss: 8.6901 - val_acc: 0.4108\n",
      "Epoch 13/20\n",
      "6660/6680 [============================>.] - ETA: 0s - loss: 8.0421 - acc: 0.4925Epoch 00013: val_loss improved from 8.69010 to 8.59374, saving model to saved_models/weights.best.VGG16.hdf5\n",
      "6680/6680 [==============================] - 4s 526us/step - loss: 8.0422 - acc: 0.4925 - val_loss: 8.5937 - val_acc: 0.4096\n",
      "Epoch 14/20\n",
      "6620/6680 [============================>.] - ETA: 0s - loss: 8.0258 - acc: 0.4970Epoch 00014: val_loss did not improve\n",
      "6680/6680 [==============================] - 3s 462us/step - loss: 8.0174 - acc: 0.4975 - val_loss: 8.6803 - val_acc: 0.3928\n",
      "Epoch 15/20\n",
      "6660/6680 [============================>.] - ETA: 0s - loss: 7.8461 - acc: 0.4971Epoch 00015: val_loss improved from 8.59374 to 8.43425, saving model to saved_models/weights.best.VGG16.hdf5\n",
      "6680/6680 [==============================] - 3s 490us/step - loss: 7.8419 - acc: 0.4975 - val_loss: 8.4342 - val_acc: 0.4228\n",
      "Epoch 16/20\n",
      "6620/6680 [============================>.] - ETA: 0s - loss: 7.7675 - acc: 0.5118Epoch 00016: val_loss improved from 8.43425 to 8.39645, saving model to saved_models/weights.best.VGG16.hdf5\n",
      "6680/6680 [==============================] - 3s 465us/step - loss: 7.7629 - acc: 0.5121 - val_loss: 8.3964 - val_acc: 0.4204\n",
      "Epoch 17/20\n",
      "6620/6680 [============================>.] - ETA: 0s - loss: 7.6681 - acc: 0.5145Epoch 00017: val_loss improved from 8.39645 to 8.23140, saving model to saved_models/weights.best.VGG16.hdf5\n",
      "6680/6680 [==============================] - 3s 461us/step - loss: 7.6693 - acc: 0.5145 - val_loss: 8.2314 - val_acc: 0.4275\n",
      "Epoch 18/20\n",
      "6620/6680 [============================>.] - ETA: 0s - loss: 7.5533 - acc: 0.5258Epoch 00018: val_loss did not improve\n",
      "6680/6680 [==============================] - 3s 456us/step - loss: 7.5627 - acc: 0.5253 - val_loss: 8.2430 - val_acc: 0.4299\n",
      "Epoch 19/20\n",
      "6580/6680 [============================>.] - ETA: 0s - loss: 7.5160 - acc: 0.5290Epoch 00019: val_loss did not improve\n",
      "6680/6680 [==============================] - 3s 433us/step - loss: 7.5199 - acc: 0.5287 - val_loss: 8.3185 - val_acc: 0.4251\n",
      "Epoch 20/20\n",
      "6560/6680 [============================>.] - ETA: 0s - loss: 7.3907 - acc: 0.5319Epoch 00020: val_loss improved from 8.23140 to 7.99516, saving model to saved_models/weights.best.VGG16.hdf5\n",
      "6680/6680 [==============================] - 3s 442us/step - loss: 7.3819 - acc: 0.5323 - val_loss: 7.9952 - val_acc: 0.4467\n"
     ]
    },
    {
     "data": {
      "text/plain": [
       "<keras.callbacks.History at 0x7fd5ea2dbf60>"
      ]
     },
     "execution_count": 38,
     "metadata": {},
     "output_type": "execute_result"
    }
   ],
   "source": [
    "checkpointer = ModelCheckpoint(filepath='saved_models/weights.best.VGG16.hdf5', \n",
    "                               verbose=1, save_best_only=True)\n",
    "\n",
    "VGG16_model.fit(train_VGG16, train_targets, \n",
    "          validation_data=(valid_VGG16, valid_targets),\n",
    "          epochs=20, batch_size=20, callbacks=[checkpointer], verbose=1)"
   ]
  },
  {
   "cell_type": "markdown",
   "metadata": {},
   "source": [
    "### Load the Model with the Best Validation Loss"
   ]
  },
  {
   "cell_type": "code",
   "execution_count": 39,
   "metadata": {},
   "outputs": [],
   "source": [
    "VGG16_model.load_weights('saved_models/weights.best.VGG16.hdf5')"
   ]
  },
  {
   "cell_type": "markdown",
   "metadata": {},
   "source": [
    "### Test the Model\n",
    "\n",
    "Now, we can use the CNN to test how well it identifies breed within our test dataset of dog images.  We print the test accuracy below."
   ]
  },
  {
   "cell_type": "code",
   "execution_count": 40,
   "metadata": {},
   "outputs": [
    {
     "name": "stdout",
     "output_type": "stream",
     "text": [
      "Test accuracy: 43.7799%\n"
     ]
    }
   ],
   "source": [
    "# get index of predicted dog breed for each image in test set\n",
    "VGG16_predictions = [np.argmax(VGG16_model.predict(np.expand_dims(feature, axis=0))) for feature in test_VGG16]\n",
    "\n",
    "# report test accuracy\n",
    "test_accuracy = 100*np.sum(np.array(VGG16_predictions)==np.argmax(test_targets, axis=1))/len(VGG16_predictions)\n",
    "print('Test accuracy: %.4f%%' % test_accuracy)"
   ]
  },
  {
   "cell_type": "markdown",
   "metadata": {},
   "source": [
    "### Predict Dog Breed with the Model"
   ]
  },
  {
   "cell_type": "code",
   "execution_count": 41,
   "metadata": {},
   "outputs": [],
   "source": [
    "from extract_bottleneck_features import *\n",
    "\n",
    "def VGG16_predict_breed(img_path):\n",
    "    # extract bottleneck features\n",
    "    bottleneck_feature = extract_VGG16(path_to_tensor(img_path))\n",
    "    # obtain predicted vector\n",
    "    predicted_vector = VGG16_model.predict(bottleneck_feature)\n",
    "    # return dog breed that is predicted by the model\n",
    "    return dog_names[np.argmax(predicted_vector)]"
   ]
  },
  {
   "cell_type": "markdown",
   "metadata": {},
   "source": [
    "---\n",
    "<a id='step5'></a>\n",
    "## Step 5: Create a CNN to Classify Dog Breeds (using Transfer Learning)\n",
    "\n",
    "You will now use transfer learning to create a CNN that can identify dog breed from images.  Your CNN must attain at least 60% accuracy on the test set.\n",
    "\n",
    "In Step 4, we used transfer learning to create a CNN using VGG-16 bottleneck features.  In this section, you must use the bottleneck features from a different pre-trained model.  To make things easier for you, we have pre-computed the features for all of the networks that are currently available in Keras:\n",
    "- [VGG-19](https://s3-us-west-1.amazonaws.com/udacity-aind/dog-project/DogVGG19Data.npz) bottleneck features\n",
    "- [ResNet-50](https://s3-us-west-1.amazonaws.com/udacity-aind/dog-project/DogResnet50Data.npz) bottleneck features\n",
    "- [Inception](https://s3-us-west-1.amazonaws.com/udacity-aind/dog-project/DogInceptionV3Data.npz) bottleneck features\n",
    "- [Xception](https://s3-us-west-1.amazonaws.com/udacity-aind/dog-project/DogXceptionData.npz) bottleneck features\n",
    "\n",
    "The files are encoded as such:\n",
    "\n",
    "    Dog{network}Data.npz\n",
    "    \n",
    "where `{network}`, in the above filename, can be one of `VGG19`, `Resnet50`, `InceptionV3`, or `Xception`.  Pick one of the above architectures, download the corresponding bottleneck features, and store the downloaded file in the `bottleneck_features/` folder in the repository.\n",
    "\n",
    "### (IMPLEMENTATION) Obtain Bottleneck Features\n",
    "\n",
    "In the code block below, extract the bottleneck features corresponding to the train, test, and validation sets by running the following:\n",
    "\n",
    "    bottleneck_features = np.load('bottleneck_features/Dog{network}Data.npz')\n",
    "    train_{network} = bottleneck_features['train']\n",
    "    valid_{network} = bottleneck_features['valid']\n",
    "    test_{network} = bottleneck_features['test']"
   ]
  },
  {
   "cell_type": "code",
   "execution_count": 11,
   "metadata": {},
   "outputs": [],
   "source": [
    "### TODO: Obtain bottleneck features from another pre-trained CNN.\n",
    "bottleneck_features = np.load('bottleneck_features/DogResnet50Data.npz')\n",
    "train_Resnet50 = bottleneck_features['train']\n",
    "valid_Resnet50 = bottleneck_features['valid']\n",
    "test_Resnet50 = bottleneck_features['test']"
   ]
  },
  {
   "cell_type": "markdown",
   "metadata": {},
   "source": [
    "### (IMPLEMENTATION) Model Architecture\n",
    "\n",
    "Create a CNN to classify dog breed.  At the end of your code cell block, summarize the layers of your model by executing the line:\n",
    "    \n",
    "        <your model's name>.summary()\n",
    "   \n",
    "__Question 5:__ Outline the steps you took to get to your final CNN architecture and your reasoning at each step.  Describe why you think the architecture is suitable for the current problem.\n",
    "\n",
    "__Answer:__ I reviewed http://cv-tricks.com/cnn/understand-resnet-alexnet-vgg-inception/ and found that Resnet50 performs nearly as well as VGG16 and Inception, but allows deeper networks than the others without suffering from vanishing gradient. Deeper networks do better, so this seemed like a good basis for the architecture. The dense layer following the trained model is the same as in step 4, because it looked like the VGG16 model provided was not very well trained, and achieved an accuracy of 0.53, which translated to a final accuracy of 44% - i.e. the dense design in step 4 seemed to work reasonably given a poorly trained VGG16 model. However in step 5 the system performed much better because the Resnet50 network was trained for dog breed classification.\n",
    "\n"
   ]
  },
  {
   "cell_type": "code",
   "execution_count": 14,
   "metadata": {},
   "outputs": [
    {
     "name": "stdout",
     "output_type": "stream",
     "text": [
      "_________________________________________________________________\n",
      "Layer (type)                 Output Shape              Param #   \n",
      "=================================================================\n",
      "global_average_pooling2d_2 ( (None, 2048)              0         \n",
      "_________________________________________________________________\n",
      "dense_2 (Dense)              (None, 133)               272517    \n",
      "=================================================================\n",
      "Total params: 272,517\n",
      "Trainable params: 272,517\n",
      "Non-trainable params: 0\n",
      "_________________________________________________________________\n"
     ]
    }
   ],
   "source": [
    "### TODO: Define your architecture.\n",
    "Resnet50_model = Sequential()\n",
    "Resnet50_model.add(GlobalAveragePooling2D(input_shape=train_Resnet50.shape[1:]))\n",
    "Resnet50_model.add(Dense(133, activation='softmax'))\n",
    "\n",
    "Resnet50_model.summary()"
   ]
  },
  {
   "cell_type": "markdown",
   "metadata": {},
   "source": [
    "### (IMPLEMENTATION) Compile the Model"
   ]
  },
  {
   "cell_type": "code",
   "execution_count": 15,
   "metadata": {},
   "outputs": [],
   "source": [
    "### TODO: Compile the model.\n",
    "Resnet50_model.compile(optimizer='rmsprop', loss='categorical_crossentropy', metrics=['accuracy'])"
   ]
  },
  {
   "cell_type": "markdown",
   "metadata": {},
   "source": [
    "### (IMPLEMENTATION) Train the Model\n",
    "\n",
    "Train your model in the code cell below.  Use model checkpointing to save the model that attains the best validation loss.  \n",
    "\n",
    "You are welcome to [augment the training data](https://blog.keras.io/building-powerful-image-classification-models-using-very-little-data.html), but this is not a requirement. "
   ]
  },
  {
   "cell_type": "code",
   "execution_count": 51,
   "metadata": {},
   "outputs": [
    {
     "name": "stdout",
     "output_type": "stream",
     "text": [
      "Train on 6680 samples, validate on 835 samples\n",
      "Epoch 1/20\n",
      "6640/6680 [============================>.] - ETA: 0s - loss: 1.6304 - acc: 0.6023Epoch 00001: val_loss improved from inf to 0.81422, saving model to saved_models/weights.best.Resnet50.hdf5\n",
      "6680/6680 [==============================] - 5s 809us/step - loss: 1.6231 - acc: 0.6037 - val_loss: 0.8142 - val_acc: 0.7461\n",
      "Epoch 2/20\n",
      "6560/6680 [============================>.] - ETA: 0s - loss: 0.4415 - acc: 0.8668Epoch 00002: val_loss improved from 0.81422 to 0.71877, saving model to saved_models/weights.best.Resnet50.hdf5\n",
      "6680/6680 [==============================] - 3s 473us/step - loss: 0.4424 - acc: 0.8671 - val_loss: 0.7188 - val_acc: 0.7892\n",
      "Epoch 3/20\n",
      "6620/6680 [============================>.] - ETA: 0s - loss: 0.2662 - acc: 0.9157Epoch 00003: val_loss improved from 0.71877 to 0.69104, saving model to saved_models/weights.best.Resnet50.hdf5\n",
      "6680/6680 [==============================] - 3s 516us/step - loss: 0.2658 - acc: 0.9157 - val_loss: 0.6910 - val_acc: 0.7952\n",
      "Epoch 4/20\n",
      "6580/6680 [============================>.] - ETA: 0s - loss: 0.1752 - acc: 0.9448Epoch 00004: val_loss improved from 0.69104 to 0.68180, saving model to saved_models/weights.best.Resnet50.hdf5\n",
      "6680/6680 [==============================] - 3s 485us/step - loss: 0.1748 - acc: 0.9448 - val_loss: 0.6818 - val_acc: 0.8132\n",
      "Epoch 5/20\n",
      "6640/6680 [============================>.] - ETA: 0s - loss: 0.1196 - acc: 0.9646Epoch 00005: val_loss did not improve\n",
      "6680/6680 [==============================] - 3s 502us/step - loss: 0.1199 - acc: 0.9644 - val_loss: 0.7213 - val_acc: 0.7904\n",
      "Epoch 6/20\n",
      "6620/6680 [============================>.] - ETA: 0s - loss: 0.0857 - acc: 0.9754Epoch 00006: val_loss improved from 0.68180 to 0.65971, saving model to saved_models/weights.best.Resnet50.hdf5\n",
      "6680/6680 [==============================] - 3s 486us/step - loss: 0.0855 - acc: 0.9754 - val_loss: 0.6597 - val_acc: 0.8263\n",
      "Epoch 7/20\n",
      "6600/6680 [============================>.] - ETA: 0s - loss: 0.0673 - acc: 0.9792Epoch 00007: val_loss did not improve\n",
      "6680/6680 [==============================] - 3s 486us/step - loss: 0.0674 - acc: 0.9790 - val_loss: 0.7075 - val_acc: 0.8263\n",
      "Epoch 8/20\n",
      "6660/6680 [============================>.] - ETA: 0s - loss: 0.0461 - acc: 0.9874Epoch 00008: val_loss did not improve\n",
      "6680/6680 [==============================] - 3s 495us/step - loss: 0.0462 - acc: 0.9873 - val_loss: 0.7283 - val_acc: 0.8216\n",
      "Epoch 9/20\n",
      "6600/6680 [============================>.] - ETA: 0s - loss: 0.0364 - acc: 0.9911Epoch 00009: val_loss did not improve\n",
      "6680/6680 [==============================] - 3s 471us/step - loss: 0.0361 - acc: 0.9912 - val_loss: 0.7956 - val_acc: 0.8096\n",
      "Epoch 10/20\n",
      "6620/6680 [============================>.] - ETA: 0s - loss: 0.0302 - acc: 0.9912Epoch 00010: val_loss did not improve\n",
      "6680/6680 [==============================] - 3s 492us/step - loss: 0.0301 - acc: 0.9912 - val_loss: 0.7162 - val_acc: 0.8335\n",
      "Epoch 11/20\n",
      "6580/6680 [============================>.] - ETA: 0s - loss: 0.0219 - acc: 0.9942Epoch 00011: val_loss did not improve\n",
      "6680/6680 [==============================] - 3s 478us/step - loss: 0.0219 - acc: 0.9943 - val_loss: 0.8279 - val_acc: 0.8204\n",
      "Epoch 12/20\n",
      "6620/6680 [============================>.] - ETA: 0s - loss: 0.0179 - acc: 0.9944Epoch 00012: val_loss did not improve\n",
      "6680/6680 [==============================] - 3s 473us/step - loss: 0.0179 - acc: 0.9945 - val_loss: 0.7766 - val_acc: 0.8180\n",
      "Epoch 13/20\n",
      "6560/6680 [============================>.] - ETA: 0s - loss: 0.0141 - acc: 0.9965Epoch 00013: val_loss did not improve\n",
      "6680/6680 [==============================] - 3s 472us/step - loss: 0.0139 - acc: 0.9966 - val_loss: 0.8015 - val_acc: 0.8263\n",
      "Epoch 14/20\n",
      "6600/6680 [============================>.] - ETA: 0s - loss: 0.0110 - acc: 0.9974Epoch 00014: val_loss did not improve\n",
      "6680/6680 [==============================] - 3s 475us/step - loss: 0.0110 - acc: 0.9975 - val_loss: 0.8323 - val_acc: 0.8323\n",
      "Epoch 15/20\n",
      "6580/6680 [============================>.] - ETA: 0s - loss: 0.0089 - acc: 0.9982Epoch 00015: val_loss did not improve\n",
      "6680/6680 [==============================] - 3s 497us/step - loss: 0.0097 - acc: 0.9979 - val_loss: 0.9296 - val_acc: 0.8108\n",
      "Epoch 16/20\n",
      "6560/6680 [============================>.] - ETA: 0s - loss: 0.0080 - acc: 0.9985Epoch 00016: val_loss did not improve\n",
      "6680/6680 [==============================] - 3s 474us/step - loss: 0.0083 - acc: 0.9984 - val_loss: 0.8769 - val_acc: 0.8192\n",
      "Epoch 17/20\n",
      "6620/6680 [============================>.] - ETA: 0s - loss: 0.0070 - acc: 0.9982Epoch 00017: val_loss did not improve\n",
      "6680/6680 [==============================] - 3s 482us/step - loss: 0.0070 - acc: 0.9982 - val_loss: 0.9224 - val_acc: 0.8251\n",
      "Epoch 18/20\n",
      "6600/6680 [============================>.] - ETA: 0s - loss: 0.0056 - acc: 0.9986Epoch 00018: val_loss did not improve\n",
      "6680/6680 [==============================] - 3s 488us/step - loss: 0.0055 - acc: 0.9987 - val_loss: 0.9077 - val_acc: 0.8275\n",
      "Epoch 19/20\n",
      "6620/6680 [============================>.] - ETA: 0s - loss: 0.0062 - acc: 0.9980Epoch 00019: val_loss did not improve\n",
      "6680/6680 [==============================] - 3s 473us/step - loss: 0.0065 - acc: 0.9979 - val_loss: 0.9204 - val_acc: 0.8407\n",
      "Epoch 20/20\n",
      "6580/6680 [============================>.] - ETA: 0s - loss: 0.0064 - acc: 0.9988Epoch 00020: val_loss did not improve\n",
      "6680/6680 [==============================] - 3s 472us/step - loss: 0.0063 - acc: 0.9988 - val_loss: 0.9597 - val_acc: 0.8240\n"
     ]
    },
    {
     "data": {
      "text/plain": [
       "<keras.callbacks.History at 0x7fd6282f9c50>"
      ]
     },
     "execution_count": 51,
     "metadata": {},
     "output_type": "execute_result"
    }
   ],
   "source": [
    "### TODO: Train the model.\n",
    "checkpointer = ModelCheckpoint(filepath='saved_models/weights.best.Resnet50.hdf5', \n",
    "                               verbose=1, save_best_only=True)\n",
    "\n",
    "Resnet50_model.fit(train_Resnet50, train_targets, \n",
    "          validation_data=(valid_Resnet50, valid_targets),\n",
    "          epochs=20, batch_size=20, callbacks=[checkpointer], verbose=1)"
   ]
  },
  {
   "cell_type": "markdown",
   "metadata": {},
   "source": [
    "### (IMPLEMENTATION) Load the Model with the Best Validation Loss"
   ]
  },
  {
   "cell_type": "code",
   "execution_count": 52,
   "metadata": {},
   "outputs": [],
   "source": [
    "### TODO: Load the model weights with the best validation loss.\n",
    "Resnet50_model.load_weights('saved_models/weights.best.Resnet50.hdf5')"
   ]
  },
  {
   "cell_type": "markdown",
   "metadata": {},
   "source": [
    "### (IMPLEMENTATION) Test the Model\n",
    "\n",
    "Try out your model on the test dataset of dog images. Ensure that your test accuracy is greater than 60%."
   ]
  },
  {
   "cell_type": "code",
   "execution_count": 53,
   "metadata": {},
   "outputs": [
    {
     "name": "stdout",
     "output_type": "stream",
     "text": [
      "Test accuracy: 80.3828%\n"
     ]
    }
   ],
   "source": [
    "### TODO: Calculate classification accuracy on the test dataset.\n",
    "Resnet50_predictions = [np.argmax(Resnet50_model.predict(np.expand_dims(feature, axis=0))) for feature in test_Resnet50]\n",
    "\n",
    "# report test accuracy\n",
    "test_accuracy = 100*np.sum(np.array(Resnet50_predictions)==np.argmax(test_targets, axis=1))/len(Resnet50_predictions)\n",
    "print('Test accuracy: %.4f%%' % test_accuracy)"
   ]
  },
  {
   "cell_type": "markdown",
   "metadata": {},
   "source": [
    "### (IMPLEMENTATION) Predict Dog Breed with the Model\n",
    "\n",
    "Write a function that takes an image path as input and returns the dog breed (`Affenpinscher`, `Afghan_hound`, etc) that is predicted by your model.  \n",
    "\n",
    "Similar to the analogous function in Step 5, your function should have three steps:\n",
    "1. Extract the bottleneck features corresponding to the chosen CNN model.\n",
    "2. Supply the bottleneck features as input to the model to return the predicted vector.  Note that the argmax of this prediction vector gives the index of the predicted dog breed.\n",
    "3. Use the `dog_names` array defined in Step 0 of this notebook to return the corresponding breed.\n",
    "\n",
    "The functions to extract the bottleneck features can be found in `extract_bottleneck_features.py`, and they have been imported in an earlier code cell.  To obtain the bottleneck features corresponding to your chosen CNN architecture, you need to use the function\n",
    "\n",
    "    extract_{network}\n",
    "    \n",
    "where `{network}`, in the above filename, should be one of `VGG19`, `Resnet50`, `InceptionV3`, or `Xception`."
   ]
  },
  {
   "cell_type": "code",
   "execution_count": 16,
   "metadata": {},
   "outputs": [],
   "source": [
    "### TODO: Write a function that takes a path to an image as input\n",
    "### and returns the dog breed that is predicted by the model.\n",
    "from extract_bottleneck_features import *\n",
    "\n",
    "def Resnet50_predict_breed(img_path):\n",
    "    # extract bottleneck features\n",
    "    bottleneck_feature = extract_Resnet50(path_to_tensor(img_path))\n",
    "    # obtain predicted vector\n",
    "    predicted_vector = Resnet50_model.predict(bottleneck_feature)\n",
    "    # return dog breed that is predicted by the model\n",
    "    return dog_names[np.argmax(predicted_vector)]"
   ]
  },
  {
   "cell_type": "markdown",
   "metadata": {},
   "source": [
    "---\n",
    "<a id='step6'></a>\n",
    "## Step 6: Write your Algorithm\n",
    "\n",
    "Write an algorithm that accepts a file path to an image and first determines whether the image contains a human, dog, or neither.  Then,\n",
    "- if a __dog__ is detected in the image, return the predicted breed.\n",
    "- if a __human__ is detected in the image, return the resembling dog breed.\n",
    "- if __neither__ is detected in the image, provide output that indicates an error.\n",
    "\n",
    "You are welcome to write your own functions for detecting humans and dogs in images, but feel free to use the `face_detector` and `dog_detector` functions developed above.  You are __required__ to use your CNN from Step 5 to predict dog breed.  \n",
    "\n",
    "Some sample output for our algorithm is provided below, but feel free to design your own user experience!\n",
    "\n",
    "![Sample Human Output](images/sample_human_output.png)\n",
    "\n",
    "\n",
    "### (IMPLEMENTATION) Write your Algorithm"
   ]
  },
  {
   "cell_type": "code",
   "execution_count": 17,
   "metadata": {},
   "outputs": [],
   "source": [
    "### TODO: Write your algorithm.\n",
    "### Feel free to use as many code cells as needed.\n",
    "def dog_human_classifier(file):\n",
    "    if (face_detector(file) == True):\n",
    "        dog_breed = Resnet50_predict_breed(file)\n",
    "        print(\"Human resembling a {} found\".format(dog_breed))\n",
    "    elif (dog_detector(file) == True):\n",
    "        dog_breed = Resnet50_predict_breed(file)\n",
    "        print(\"Dog found, breed: \", dog_breed)\n",
    "    else:\n",
    "        print(\"Error: did not detect human or dog\")\n"
   ]
  },
  {
   "cell_type": "markdown",
   "metadata": {},
   "source": [
    "---\n",
    "<a id='step7'></a>\n",
    "## Step 7: Test Your Algorithm\n",
    "\n",
    "In this section, you will take your new algorithm for a spin!  What kind of dog does the algorithm think that __you__ look like?  If you have a dog, does it predict your dog's breed accurately?  If you have a cat, does it mistakenly think that your cat is a dog?\n",
    "\n",
    "### (IMPLEMENTATION) Test Your Algorithm on Sample Images!\n",
    "\n",
    "Test your algorithm at least six images on your computer.  Feel free to use any images you like.  Use at least two human and two dog images.  \n",
    "\n",
    "__Question 6:__ Is the output better than you expected :) ?  Or worse :( ?  Provide at least three possible points of improvement for your algorithm.\n",
    "\n",
    "__Answer:__ It does surprisingly well, especially when presented with images that are potentially confusing (a sheep painting, a human with a dog (twice), and two humans. It detects humans quite well, but surprisingly, failed to identify a fox as a dog.\n",
    "\n",
    "Some points which may improve the algorithm are:\n",
    "- To run both the people detector and the dog detector and express whether both people and dogs are found\n",
    "- For the dog breed detector, an extra dense layer may have helped find dogs in more complex pictures that had humans as well, rather than it not finding a dog at all\n",
    "- I'm suspicious about GlobalMaxPooling2D. A regular MaxPooling layer may have done better"
   ]
  },
  {
   "cell_type": "code",
   "execution_count": 21,
   "metadata": {},
   "outputs": [
    {
     "name": "stdout",
     "output_type": "stream",
     "text": [
      "Processing file:  /mnt/Ubuntu12.04/home/bouchier/Education/UdacityDeepLearningND/dog-project/PaulsImages/Holly1.jpg\n",
      "Human resembling a Ibizan_hound found\n",
      "Processing file:  /mnt/Ubuntu12.04/home/bouchier/Education/UdacityDeepLearningND/dog-project/PaulsImages/cookie1.jpg\n",
      "Dog found, breed:  Wirehaired_pointing_griffon\n",
      "Processing file:  /mnt/Ubuntu12.04/home/bouchier/Education/UdacityDeepLearningND/dog-project/PaulsImages/blackDog.jpg\n",
      "Dog found, breed:  Chow_chow\n",
      "Processing file:  /mnt/Ubuntu12.04/home/bouchier/Education/UdacityDeepLearningND/dog-project/PaulsImages/Holly2.jpg\n",
      "Human resembling a Norwegian_elkhound found\n",
      "Processing file:  /mnt/Ubuntu12.04/home/bouchier/Education/UdacityDeepLearningND/dog-project/PaulsImages/PaulHolly.jpg\n",
      "Human resembling a Norwegian_elkhound found\n",
      "Processing file:  /mnt/Ubuntu12.04/home/bouchier/Education/UdacityDeepLearningND/dog-project/PaulsImages/HollyJillsDog.jpg\n",
      "Human resembling a Cane_corso found\n",
      "Processing file:  /mnt/Ubuntu12.04/home/bouchier/Education/UdacityDeepLearningND/dog-project/PaulsImages/zoey.jpg\n",
      "Dog found, breed:  English_springer_spaniel\n",
      "Processing file:  /mnt/Ubuntu12.04/home/bouchier/Education/UdacityDeepLearningND/dog-project/PaulsImages/fox.jpg\n",
      "Error: did not detect human or dog\n",
      "Processing file:  /mnt/Ubuntu12.04/home/bouchier/Education/UdacityDeepLearningND/dog-project/PaulsImages/HollyWithCookie.jpg\n",
      "Error: did not detect human or dog\n",
      "Processing file:  /mnt/Ubuntu12.04/home/bouchier/Education/UdacityDeepLearningND/dog-project/PaulsImages/sheep.jpg\n",
      "Error: did not detect human or dog\n"
     ]
    }
   ],
   "source": [
    "## TODO: Execute your algorithm from Step 6 on\n",
    "## at least 6 images on your computer.\n",
    "## Feel free to use as many code cells as needed.\n",
    "import os\n",
    "import cv2\n",
    "\n",
    "files = os.listdir('PaulsImages')\n",
    "for file in files:\n",
    "    img_path = '/mnt/Ubuntu12.04/home/bouchier/Education/UdacityDeepLearningND/dog-project/PaulsImages/' + file\n",
    "    print('Processing file: ', img_path)\n",
    "    img = cv2.imread(img_path)\n",
    "    cv2.imshow('image',img)\n",
    "    cv2.waitKey(0)\n",
    "    cv2.destroyAllWindows()\n",
    "    dog_human_classifier(img_path)\n",
    "    "
   ]
  }
 ],
 "metadata": {
  "anaconda-cloud": {},
  "kernelspec": {
   "display_name": "Python [conda env:anaconda3]",
   "language": "python",
   "name": "conda-env-anaconda3-py"
  },
  "language_info": {
   "codemirror_mode": {
    "name": "ipython",
    "version": 3
   },
   "file_extension": ".py",
   "mimetype": "text/x-python",
   "name": "python",
   "nbconvert_exporter": "python",
   "pygments_lexer": "ipython3",
   "version": "3.6.3"
  }
 },
 "nbformat": 4,
 "nbformat_minor": 1
}
